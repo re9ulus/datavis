{
 "cells": [
  {
   "cell_type": "code",
   "execution_count": 1,
   "metadata": {
    "collapsed": true
   },
   "outputs": [],
   "source": [
    "from bokeh.plotting import figure, output_notebook, show"
   ]
  },
  {
   "cell_type": "code",
   "execution_count": 2,
   "metadata": {
    "collapsed": false
   },
   "outputs": [
    {
     "data": {
      "text/html": [
       "\n",
       "    <div class=\"bk-banner\">\n",
       "        <a href=\"http://bokeh.pydata.org\" target=\"_blank\" class=\"bk-logo bk-logo-small bk-logo-notebook\"></a>\n",
       "        <span id=\"de3e2e11-2076-428d-9d77-a6870187cc7d\">Loading BokehJS ...</span>\n",
       "    </div>"
      ]
     },
     "metadata": {},
     "output_type": "display_data"
    },
    {
     "data": {
      "application/javascript": [
       "\n",
       "(function(global) {\n",
       "  function now() {\n",
       "    return new Date();\n",
       "  }\n",
       "\n",
       "  if (typeof (window._bokeh_onload_callbacks) === \"undefined\") {\n",
       "    window._bokeh_onload_callbacks = [];\n",
       "  }\n",
       "\n",
       "  function run_callbacks() {\n",
       "    window._bokeh_onload_callbacks.forEach(function(callback) { callback() });\n",
       "    delete window._bokeh_onload_callbacks\n",
       "    console.info(\"Bokeh: all callbacks have finished\");\n",
       "  }\n",
       "\n",
       "  function load_libs(js_urls, callback) {\n",
       "    window._bokeh_onload_callbacks.push(callback);\n",
       "    if (window._bokeh_is_loading > 0) {\n",
       "      console.log(\"Bokeh: BokehJS is being loaded, scheduling callback at\", now());\n",
       "      return null;\n",
       "    }\n",
       "    if (js_urls == null || js_urls.length === 0) {\n",
       "      run_callbacks();\n",
       "      return null;\n",
       "    }\n",
       "    console.log(\"Bokeh: BokehJS not loaded, scheduling load and callback at\", now());\n",
       "    window._bokeh_is_loading = js_urls.length;\n",
       "    for (var i = 0; i < js_urls.length; i++) {\n",
       "      var url = js_urls[i];\n",
       "      var s = document.createElement('script');\n",
       "      s.src = url;\n",
       "      s.async = false;\n",
       "      s.onreadystatechange = s.onload = function() {\n",
       "        window._bokeh_is_loading--;\n",
       "        if (window._bokeh_is_loading === 0) {\n",
       "          console.log(\"Bokeh: all BokehJS libraries loaded\");\n",
       "          run_callbacks()\n",
       "        }\n",
       "      };\n",
       "      s.onerror = function() {\n",
       "        console.warn(\"failed to load library \" + url);\n",
       "      };\n",
       "      console.log(\"Bokeh: injecting script tag for BokehJS library: \", url);\n",
       "      document.getElementsByTagName(\"head\")[0].appendChild(s);\n",
       "    }\n",
       "  };\n",
       "\n",
       "  var js_urls = ['https://cdn.pydata.org/bokeh/release/bokeh-0.11.1.min.js', 'https://cdn.pydata.org/bokeh/release/bokeh-widgets-0.11.1.min.js', 'https://cdn.pydata.org/bokeh/release/bokeh-compiler-0.11.1.min.js'];\n",
       "\n",
       "  var inline_js = [\n",
       "    function(Bokeh) {\n",
       "      Bokeh.set_log_level(\"info\");\n",
       "    },\n",
       "    \n",
       "    function(Bokeh) {\n",
       "      Bokeh.$(\"#de3e2e11-2076-428d-9d77-a6870187cc7d\").text(\"BokehJS successfully loaded\");\n",
       "    },\n",
       "    function(Bokeh) {\n",
       "      console.log(\"Bokeh: injecting CSS: https://cdn.pydata.org/bokeh/release/bokeh-0.11.1.min.css\");\n",
       "      Bokeh.embed.inject_css(\"https://cdn.pydata.org/bokeh/release/bokeh-0.11.1.min.css\");\n",
       "      console.log(\"Bokeh: injecting CSS: https://cdn.pydata.org/bokeh/release/bokeh-widgets-0.11.1.min.css\");\n",
       "      Bokeh.embed.inject_css(\"https://cdn.pydata.org/bokeh/release/bokeh-widgets-0.11.1.min.css\");\n",
       "    }\n",
       "  ];\n",
       "\n",
       "  function run_inline_js() {\n",
       "    for (var i = 0; i < inline_js.length; i++) {\n",
       "      inline_js[i](window.Bokeh);\n",
       "    }\n",
       "  }\n",
       "\n",
       "  if (window._bokeh_is_loading === 0) {\n",
       "    console.log(\"Bokeh: BokehJS loaded, going straight to plotting\");\n",
       "    run_inline_js();\n",
       "  } else {\n",
       "    load_libs(js_urls, function() {\n",
       "      console.log(\"Bokeh: BokehJS plotting callback run at\", now());\n",
       "      run_inline_js();\n",
       "    });\n",
       "  }\n",
       "}(this));"
      ]
     },
     "metadata": {},
     "output_type": "display_data"
    }
   ],
   "source": [
    "output_notebook()"
   ]
  },
  {
   "cell_type": "code",
   "execution_count": 3,
   "metadata": {
    "collapsed": false
   },
   "outputs": [
    {
     "data": {
      "text/html": [
       "\n",
       "\n",
       "    <div class=\"plotdiv\" id=\"0610cf48-52fc-4505-89f6-9af78090de64\"></div>\n",
       "<script type=\"text/javascript\">\n",
       "  \n",
       "  (function(global) {\n",
       "    function now() {\n",
       "      return new Date();\n",
       "    }\n",
       "  \n",
       "    if (typeof (window._bokeh_onload_callbacks) === \"undefined\") {\n",
       "      window._bokeh_onload_callbacks = [];\n",
       "    }\n",
       "  \n",
       "    function run_callbacks() {\n",
       "      window._bokeh_onload_callbacks.forEach(function(callback) { callback() });\n",
       "      delete window._bokeh_onload_callbacks\n",
       "      console.info(\"Bokeh: all callbacks have finished\");\n",
       "    }\n",
       "  \n",
       "    function load_libs(js_urls, callback) {\n",
       "      window._bokeh_onload_callbacks.push(callback);\n",
       "      if (window._bokeh_is_loading > 0) {\n",
       "        console.log(\"Bokeh: BokehJS is being loaded, scheduling callback at\", now());\n",
       "        return null;\n",
       "      }\n",
       "      if (js_urls == null || js_urls.length === 0) {\n",
       "        run_callbacks();\n",
       "        return null;\n",
       "      }\n",
       "      console.log(\"Bokeh: BokehJS not loaded, scheduling load and callback at\", now());\n",
       "      window._bokeh_is_loading = js_urls.length;\n",
       "      for (var i = 0; i < js_urls.length; i++) {\n",
       "        var url = js_urls[i];\n",
       "        var s = document.createElement('script');\n",
       "        s.src = url;\n",
       "        s.async = false;\n",
       "        s.onreadystatechange = s.onload = function() {\n",
       "          window._bokeh_is_loading--;\n",
       "          if (window._bokeh_is_loading === 0) {\n",
       "            console.log(\"Bokeh: all BokehJS libraries loaded\");\n",
       "            run_callbacks()\n",
       "          }\n",
       "        };\n",
       "        s.onerror = function() {\n",
       "          console.warn(\"failed to load library \" + url);\n",
       "        };\n",
       "        console.log(\"Bokeh: injecting script tag for BokehJS library: \", url);\n",
       "        document.getElementsByTagName(\"head\")[0].appendChild(s);\n",
       "      }\n",
       "    };var element = document.getElementById(\"0610cf48-52fc-4505-89f6-9af78090de64\");\n",
       "    if (element == null) {\n",
       "      console.log(\"Bokeh: ERROR: autoload.js configured with elementid '0610cf48-52fc-4505-89f6-9af78090de64' but no matching script tag was found. \")\n",
       "      return false;\n",
       "    }\n",
       "  \n",
       "    var js_urls = [];\n",
       "  \n",
       "    var inline_js = [\n",
       "      function(Bokeh) {\n",
       "        Bokeh.$(function() {\n",
       "            var docs_json = {\"0220c254-5586-4746-a1f7-f7451a54af37\":{\"roots\":{\"references\":[{\"attributes\":{\"formatter\":{\"id\":\"d43937ba-8905-4885-a8be-f436e5feac27\",\"type\":\"BasicTickFormatter\"},\"plot\":{\"id\":\"63ae0656-21ae-4a6c-809f-3e9661e51968\",\"subtype\":\"Figure\",\"type\":\"Plot\"},\"ticker\":{\"id\":\"88ba1ad9-3885-4dc8-a6e1-81d472590e45\",\"type\":\"BasicTicker\"}},\"id\":\"e847a12c-a14b-47c0-bfbd-21d8a8f4ee27\",\"type\":\"LinearAxis\"},{\"attributes\":{\"callback\":null,\"column_names\":[\"x\",\"y\"],\"data\":{\"x\":[-6.0,-5.878787878787879,-5.757575757575758,-5.636363636363637,-5.515151515151516,-5.393939393939394,-5.2727272727272725,-5.151515151515151,-5.03030303030303,-4.909090909090909,-4.787878787878788,-4.666666666666666,-4.545454545454545,-4.424242424242424,-4.303030303030303,-4.181818181818182,-4.0606060606060606,-3.9393939393939394,-3.8181818181818183,-3.696969696969697,-3.5757575757575757,-3.4545454545454546,-3.333333333333333,-3.212121212121212,-3.090909090909091,-2.9696969696969697,-2.8484848484848486,-2.727272727272727,-2.606060606060606,-2.484848484848485,-2.3636363636363633,-2.242424242424242,-2.121212121212121,-2.0,-1.878787878787879,-1.7575757575757578,-1.6363636363636367,-1.5151515151515147,-1.3939393939393936,-1.2727272727272725,-1.1515151515151514,-1.0303030303030303,-0.9090909090909092,-0.7878787878787881,-0.6666666666666661,-0.545454545454545,-0.42424242424242387,-0.30303030303030276,-0.18181818181818166,-0.06060606060606055,0.06060606060606055,0.18181818181818166,0.30303030303030276,0.42424242424242475,0.5454545454545459,0.666666666666667,0.7878787878787881,0.9090909090909092,1.0303030303030303,1.1515151515151514,1.2727272727272734,1.3939393939393945,1.5151515151515156,1.6363636363636367,1.7575757575757578,1.878787878787879,2.0,2.121212121212121,2.242424242424242,2.3636363636363633,2.4848484848484844,2.6060606060606055,2.7272727272727266,2.8484848484848495,2.9696969696969706,3.0909090909090917,3.212121212121213,3.333333333333334,3.454545454545455,3.575757575757576,3.6969696969696972,3.8181818181818183,3.9393939393939394,4.0606060606060606,4.181818181818182,4.303030303030303,4.424242424242424,4.545454545454545,4.666666666666668,4.787878787878789,4.90909090909091,5.030303030303031,5.151515151515152,5.272727272727273,5.3939393939393945,5.515151515151516,5.636363636363637,5.757575757575758,5.878787878787879,6.0],\"y\":[0.960170286650366,0.9193396548099325,0.865018266697566,0.7980032559988883,0.7192780276732816,0.6299978270778193,0.5314727874367585,0.42514870442477243,0.3125858199853547,0.19543592671908872,0.07541812882111003,-0.04570638473858134,-0.16616018460355267,-0.2841756837372786,-0.39802107569934975,-0.5060257478629665,-0.6066047966500377,-0.6982822850375598,-0.7797129010453654,-0.8497016993799634,-0.9072216365377284,-0.9514286420503495,-0.9816740047110791,-0.9975138920213652,-0.9987158631657161,-0.9852622799408088,-0.9573505655855105,-0.9153903077136357,-0.8599972478621625,-0.7919842458546638,-0.7123493515724919,-0.6222611591732922,-0.5230416586748752,-0.4161468365471424,-0.3031453099867001,-0.18569530840332882,-0.06552033990114371,0.05561610016580718,0.17593640742677327,0.2936749537688711,0.40710399686726717,0.5145590337642212,0.6144632264484673,0.7053505410042531,0.7858872607769484,0.854891557862458,0.9113508357206178,0.954436588420145,0.9835165584646712,0.9981640147910761,0.9981640147910761,0.9835165584646712,0.954436588420145,0.9113508357206175,0.8548915578624574,0.7858872607769478,0.7053505410042531,0.6144632264484673,0.5145590337642212,0.40710399686726717,0.29367495376887026,0.17593640742677238,0.055616100165806294,-0.06552033990114371,-0.18569530840332882,-0.3031453099867001,-0.4161468365471424,-0.5230416586748752,-0.6222611591732922,-0.7123493515724919,-0.7919842458546635,-0.8599972478621623,-0.9153903077136356,-0.9573505655855107,-0.9852622799408091,-0.9987158631657161,-0.9975138920213652,-0.9816740047110789,-0.9514286420503493,-0.9072216365377281,-0.8497016993799632,-0.7797129010453654,-0.6982822850375598,-0.6066047966500377,-0.5060257478629665,-0.39802107569934975,-0.2841756837372786,-0.16616018460355267,-0.04570638473857956,0.07541812882111092,0.1954359267190896,0.3125858199853555,0.4251487044247732,0.5314727874367592,0.6299978270778199,0.7192780276732816,0.7980032559988883,0.865018266697566,0.9193396548099325,0.960170286650366]}},\"id\":\"3bc66c57-071e-4e47-a859-859d78458ceb\",\"type\":\"ColumnDataSource\"},{\"attributes\":{},\"id\":\"88ba1ad9-3885-4dc8-a6e1-81d472590e45\",\"type\":\"BasicTicker\"},{\"attributes\":{\"overlay\":{\"id\":\"35cdbd1e-ae51-44f3-9ccf-35273aeabcba\",\"type\":\"BoxAnnotation\"},\"plot\":{\"id\":\"63ae0656-21ae-4a6c-809f-3e9661e51968\",\"subtype\":\"Figure\",\"type\":\"Plot\"}},\"id\":\"7dfdee9f-c82a-4126-8842-078533f03186\",\"type\":\"BoxZoomTool\"},{\"attributes\":{\"below\":[{\"id\":\"f41a63f4-a9bb-4759-800c-fbf0012721f6\",\"type\":\"LinearAxis\"}],\"left\":[{\"id\":\"e847a12c-a14b-47c0-bfbd-21d8a8f4ee27\",\"type\":\"LinearAxis\"}],\"plot_height\":500,\"plot_width\":500,\"renderers\":[{\"id\":\"f41a63f4-a9bb-4759-800c-fbf0012721f6\",\"type\":\"LinearAxis\"},{\"id\":\"ddf411ee-b703-4f4e-8135-6fe52139e446\",\"type\":\"Grid\"},{\"id\":\"e847a12c-a14b-47c0-bfbd-21d8a8f4ee27\",\"type\":\"LinearAxis\"},{\"id\":\"461eb1fe-a0af-400b-9bb6-aa2e036b328f\",\"type\":\"Grid\"},{\"id\":\"35cdbd1e-ae51-44f3-9ccf-35273aeabcba\",\"type\":\"BoxAnnotation\"},{\"id\":\"d70799b0-d3bf-4e74-a2e7-3baaa8c8c972\",\"type\":\"GlyphRenderer\"}],\"tool_events\":{\"id\":\"edd93d5a-2c42-4d3f-96c7-d75e687138fa\",\"type\":\"ToolEvents\"},\"tools\":[{\"id\":\"153e151c-60bb-4816-b3a4-e422ac7989b2\",\"type\":\"PanTool\"},{\"id\":\"d91f3664-7be1-4036-80b5-e88c7c89282f\",\"type\":\"WheelZoomTool\"},{\"id\":\"7dfdee9f-c82a-4126-8842-078533f03186\",\"type\":\"BoxZoomTool\"},{\"id\":\"7f45b028-a9bd-4718-ac61-7b424c51aa0b\",\"type\":\"PreviewSaveTool\"},{\"id\":\"e9a821fb-e54c-4c03-876d-bcda53bcdb92\",\"type\":\"ResizeTool\"},{\"id\":\"b19ba53c-eb2a-40af-abed-3cbae6ea140c\",\"type\":\"ResetTool\"},{\"id\":\"2c8df008-b17a-43c7-926c-e9873d3e99e5\",\"type\":\"HelpTool\"}],\"x_range\":{\"id\":\"6fb72640-418d-4f6e-acd9-90fac3944bad\",\"type\":\"DataRange1d\"},\"y_range\":{\"id\":\"4b627875-6266-4234-8ae8-a0a952c36ca8\",\"type\":\"DataRange1d\"}},\"id\":\"63ae0656-21ae-4a6c-809f-3e9661e51968\",\"subtype\":\"Figure\",\"type\":\"Plot\"},{\"attributes\":{\"fill_alpha\":{\"value\":0.1},\"fill_color\":{\"value\":\"#1f77b4\"},\"line_alpha\":{\"value\":0.1},\"line_color\":{\"value\":\"#1f77b4\"},\"size\":{\"units\":\"screen\",\"value\":7},\"x\":{\"field\":\"x\"},\"y\":{\"field\":\"y\"}},\"id\":\"169dab49-8f7b-4f11-952e-d1ee05645987\",\"type\":\"Circle\"},{\"attributes\":{\"callback\":null},\"id\":\"6fb72640-418d-4f6e-acd9-90fac3944bad\",\"type\":\"DataRange1d\"},{\"attributes\":{\"bottom_units\":\"screen\",\"fill_alpha\":{\"value\":0.5},\"fill_color\":{\"value\":\"lightgrey\"},\"left_units\":\"screen\",\"level\":\"overlay\",\"line_alpha\":{\"value\":1.0},\"line_color\":{\"value\":\"black\"},\"line_dash\":[4,4],\"line_width\":{\"value\":2},\"plot\":null,\"render_mode\":\"css\",\"right_units\":\"screen\",\"top_units\":\"screen\"},\"id\":\"35cdbd1e-ae51-44f3-9ccf-35273aeabcba\",\"type\":\"BoxAnnotation\"},{\"attributes\":{},\"id\":\"d43937ba-8905-4885-a8be-f436e5feac27\",\"type\":\"BasicTickFormatter\"},{\"attributes\":{},\"id\":\"bc5b2107-6b98-41e8-978d-2358bfc42476\",\"type\":\"BasicTicker\"},{\"attributes\":{\"fill_alpha\":{\"value\":0.5},\"fill_color\":{\"value\":\"firebrick\"},\"line_alpha\":{\"value\":0.5},\"line_color\":{\"value\":\"firebrick\"},\"size\":{\"units\":\"screen\",\"value\":7},\"x\":{\"field\":\"x\"},\"y\":{\"field\":\"y\"}},\"id\":\"7caef86d-95e4-445c-a449-6c1875171159\",\"type\":\"Circle\"},{\"attributes\":{\"plot\":{\"id\":\"63ae0656-21ae-4a6c-809f-3e9661e51968\",\"subtype\":\"Figure\",\"type\":\"Plot\"}},\"id\":\"b19ba53c-eb2a-40af-abed-3cbae6ea140c\",\"type\":\"ResetTool\"},{\"attributes\":{\"callback\":null},\"id\":\"4b627875-6266-4234-8ae8-a0a952c36ca8\",\"type\":\"DataRange1d\"},{\"attributes\":{\"plot\":{\"id\":\"63ae0656-21ae-4a6c-809f-3e9661e51968\",\"subtype\":\"Figure\",\"type\":\"Plot\"}},\"id\":\"e9a821fb-e54c-4c03-876d-bcda53bcdb92\",\"type\":\"ResizeTool\"},{\"attributes\":{\"formatter\":{\"id\":\"193fa442-7e41-4a5c-bc9a-e675bd44a409\",\"type\":\"BasicTickFormatter\"},\"plot\":{\"id\":\"63ae0656-21ae-4a6c-809f-3e9661e51968\",\"subtype\":\"Figure\",\"type\":\"Plot\"},\"ticker\":{\"id\":\"bc5b2107-6b98-41e8-978d-2358bfc42476\",\"type\":\"BasicTicker\"}},\"id\":\"f41a63f4-a9bb-4759-800c-fbf0012721f6\",\"type\":\"LinearAxis\"},{\"attributes\":{},\"id\":\"193fa442-7e41-4a5c-bc9a-e675bd44a409\",\"type\":\"BasicTickFormatter\"},{\"attributes\":{},\"id\":\"edd93d5a-2c42-4d3f-96c7-d75e687138fa\",\"type\":\"ToolEvents\"},{\"attributes\":{\"dimension\":1,\"plot\":{\"id\":\"63ae0656-21ae-4a6c-809f-3e9661e51968\",\"subtype\":\"Figure\",\"type\":\"Plot\"},\"ticker\":{\"id\":\"88ba1ad9-3885-4dc8-a6e1-81d472590e45\",\"type\":\"BasicTicker\"}},\"id\":\"461eb1fe-a0af-400b-9bb6-aa2e036b328f\",\"type\":\"Grid\"},{\"attributes\":{\"plot\":{\"id\":\"63ae0656-21ae-4a6c-809f-3e9661e51968\",\"subtype\":\"Figure\",\"type\":\"Plot\"}},\"id\":\"153e151c-60bb-4816-b3a4-e422ac7989b2\",\"type\":\"PanTool\"},{\"attributes\":{\"plot\":{\"id\":\"63ae0656-21ae-4a6c-809f-3e9661e51968\",\"subtype\":\"Figure\",\"type\":\"Plot\"},\"ticker\":{\"id\":\"bc5b2107-6b98-41e8-978d-2358bfc42476\",\"type\":\"BasicTicker\"}},\"id\":\"ddf411ee-b703-4f4e-8135-6fe52139e446\",\"type\":\"Grid\"},{\"attributes\":{\"data_source\":{\"id\":\"3bc66c57-071e-4e47-a859-859d78458ceb\",\"type\":\"ColumnDataSource\"},\"glyph\":{\"id\":\"7caef86d-95e4-445c-a449-6c1875171159\",\"type\":\"Circle\"},\"hover_glyph\":null,\"nonselection_glyph\":{\"id\":\"169dab49-8f7b-4f11-952e-d1ee05645987\",\"type\":\"Circle\"},\"selection_glyph\":null},\"id\":\"d70799b0-d3bf-4e74-a2e7-3baaa8c8c972\",\"type\":\"GlyphRenderer\"},{\"attributes\":{\"plot\":{\"id\":\"63ae0656-21ae-4a6c-809f-3e9661e51968\",\"subtype\":\"Figure\",\"type\":\"Plot\"}},\"id\":\"7f45b028-a9bd-4718-ac61-7b424c51aa0b\",\"type\":\"PreviewSaveTool\"},{\"attributes\":{\"plot\":{\"id\":\"63ae0656-21ae-4a6c-809f-3e9661e51968\",\"subtype\":\"Figure\",\"type\":\"Plot\"}},\"id\":\"d91f3664-7be1-4036-80b5-e88c7c89282f\",\"type\":\"WheelZoomTool\"},{\"attributes\":{\"plot\":{\"id\":\"63ae0656-21ae-4a6c-809f-3e9661e51968\",\"subtype\":\"Figure\",\"type\":\"Plot\"}},\"id\":\"2c8df008-b17a-43c7-926c-e9873d3e99e5\",\"type\":\"HelpTool\"}],\"root_ids\":[\"63ae0656-21ae-4a6c-809f-3e9661e51968\"]},\"title\":\"Bokeh Application\",\"version\":\"0.11.1\"}};\n",
       "            var render_items = [{\"docid\":\"0220c254-5586-4746-a1f7-f7451a54af37\",\"elementid\":\"0610cf48-52fc-4505-89f6-9af78090de64\",\"modelid\":\"63ae0656-21ae-4a6c-809f-3e9661e51968\",\"notebook_comms_target\":\"5a5db3c8-6369-45dd-84f7-e5c40f44242f\"}];\n",
       "            \n",
       "            Bokeh.embed.embed_items(docs_json, render_items);\n",
       "        });\n",
       "      },\n",
       "      function(Bokeh) {\n",
       "      }\n",
       "    ];\n",
       "  \n",
       "    function run_inline_js() {\n",
       "      for (var i = 0; i < inline_js.length; i++) {\n",
       "        inline_js[i](window.Bokeh);\n",
       "      }\n",
       "    }\n",
       "  \n",
       "    if (window._bokeh_is_loading === 0) {\n",
       "      console.log(\"Bokeh: BokehJS loaded, going straight to plotting\");\n",
       "      run_inline_js();\n",
       "    } else {\n",
       "      load_libs(js_urls, function() {\n",
       "        console.log(\"Bokeh: BokehJS plotting callback run at\", now());\n",
       "        run_inline_js();\n",
       "      });\n",
       "    }\n",
       "  }(this));\n",
       "</script>"
      ]
     },
     "metadata": {},
     "output_type": "display_data"
    },
    {
     "data": {
      "text/html": [
       "<p><code>&lt;Bokeh Notebook handle for <strong>In[3]</strong>&gt;</code></p>"
      ],
      "text/plain": [
       "<bokeh.io._CommsHandle at 0x82b3e80>"
      ]
     },
     "execution_count": 3,
     "metadata": {},
     "output_type": "execute_result"
    }
   ],
   "source": [
    "import numpy as np\n",
    "x = np.linspace(-6, 6, 100)\n",
    "y = np.cos(x)\n",
    "\n",
    "p = figure(width=500, height=500)\n",
    "p.circle(x, y, size=7, color='firebrick', alpha=0.5)\n",
    "show(p)"
   ]
  }
 ],
 "metadata": {
  "kernelspec": {
   "display_name": "Python 2",
   "language": "python",
   "name": "python2"
  },
  "language_info": {
   "codemirror_mode": {
    "name": "ipython",
    "version": 2
   },
   "file_extension": ".py",
   "mimetype": "text/x-python",
   "name": "python",
   "nbconvert_exporter": "python",
   "pygments_lexer": "ipython2",
   "version": "2.7.11"
  }
 },
 "nbformat": 4,
 "nbformat_minor": 0
}
