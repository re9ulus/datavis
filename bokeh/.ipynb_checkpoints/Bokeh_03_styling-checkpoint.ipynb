{
 "cells": [
  {
   "cell_type": "code",
   "execution_count": 1,
   "metadata": {
    "collapsed": true
   },
   "outputs": [],
   "source": [
    "from bokeh.io import output_notebook, show\n",
    "from bokeh.plotting import figure"
   ]
  },
  {
   "cell_type": "code",
   "execution_count": 2,
   "metadata": {
    "collapsed": false
   },
   "outputs": [
    {
     "data": {
      "text/html": [
       "\n",
       "    <div class=\"bk-root\">\n",
       "        <a href=\"http://bokeh.pydata.org\" target=\"_blank\" class=\"bk-logo bk-logo-small bk-logo-notebook\"></a>\n",
       "        <span id=\"680b5dcc-716f-4873-ad01-a834019e9757\">Loading BokehJS ...</span>\n",
       "    </div>"
      ]
     },
     "metadata": {},
     "output_type": "display_data"
    },
    {
     "data": {
      "application/javascript": [
       "\n",
       "(function(global) {\n",
       "  function now() {\n",
       "    return new Date();\n",
       "  }\n",
       "\n",
       "  var force = \"1\";\n",
       "\n",
       "  if (typeof (window._bokeh_onload_callbacks) === \"undefined\" || force !== \"\") {\n",
       "    window._bokeh_onload_callbacks = [];\n",
       "    window._bokeh_is_loading = undefined;\n",
       "  }\n",
       "\n",
       "  function run_callbacks() {\n",
       "    window._bokeh_onload_callbacks.forEach(function(callback) { callback() });\n",
       "    delete window._bokeh_onload_callbacks\n",
       "    console.info(\"Bokeh: all callbacks have finished\");\n",
       "  }\n",
       "\n",
       "  function load_libs(js_urls, callback) {\n",
       "    window._bokeh_onload_callbacks.push(callback);\n",
       "    if (window._bokeh_is_loading > 0) {\n",
       "      console.log(\"Bokeh: BokehJS is being loaded, scheduling callback at\", now());\n",
       "      return null;\n",
       "    }\n",
       "    if (js_urls == null || js_urls.length === 0) {\n",
       "      run_callbacks();\n",
       "      return null;\n",
       "    }\n",
       "    console.log(\"Bokeh: BokehJS not loaded, scheduling load and callback at\", now());\n",
       "    window._bokeh_is_loading = js_urls.length;\n",
       "    for (var i = 0; i < js_urls.length; i++) {\n",
       "      var url = js_urls[i];\n",
       "      var s = document.createElement('script');\n",
       "      s.src = url;\n",
       "      s.async = false;\n",
       "      s.onreadystatechange = s.onload = function() {\n",
       "        window._bokeh_is_loading--;\n",
       "        if (window._bokeh_is_loading === 0) {\n",
       "          console.log(\"Bokeh: all BokehJS libraries loaded\");\n",
       "          run_callbacks()\n",
       "        }\n",
       "      };\n",
       "      s.onerror = function() {\n",
       "        console.warn(\"failed to load library \" + url);\n",
       "      };\n",
       "      console.log(\"Bokeh: injecting script tag for BokehJS library: \", url);\n",
       "      document.getElementsByTagName(\"head\")[0].appendChild(s);\n",
       "    }\n",
       "  };\n",
       "\n",
       "  var js_urls = ['https://cdn.pydata.org/bokeh/release/bokeh-0.12.1.min.js', 'https://cdn.pydata.org/bokeh/release/bokeh-widgets-0.12.1.min.js', 'https://cdn.pydata.org/bokeh/release/bokeh-compiler-0.12.1.min.js'];\n",
       "\n",
       "  var inline_js = [\n",
       "    function(Bokeh) {\n",
       "      Bokeh.set_log_level(\"info\");\n",
       "    },\n",
       "    \n",
       "    function(Bokeh) {\n",
       "      \n",
       "      Bokeh.$(\"#680b5dcc-716f-4873-ad01-a834019e9757\").text(\"BokehJS successfully loaded\");\n",
       "      var kernel = Jupyter.notebook.kernel\n",
       "      if (kernel.execute !== undefined) {\n",
       "          kernel.execute(\"import bokeh.io; bokeh.io._nb_loaded = True\");\n",
       "      }\n",
       "    },\n",
       "    function(Bokeh) {\n",
       "      console.log(\"Bokeh: injecting CSS: https://cdn.pydata.org/bokeh/release/bokeh-0.12.1.min.css\");\n",
       "      Bokeh.embed.inject_css(\"https://cdn.pydata.org/bokeh/release/bokeh-0.12.1.min.css\");\n",
       "      console.log(\"Bokeh: injecting CSS: https://cdn.pydata.org/bokeh/release/bokeh-widgets-0.12.1.min.css\");\n",
       "      Bokeh.embed.inject_css(\"https://cdn.pydata.org/bokeh/release/bokeh-widgets-0.12.1.min.css\");\n",
       "    }\n",
       "  ];\n",
       "\n",
       "  function run_inline_js() {\n",
       "    for (var i = 0; i < inline_js.length; i++) {\n",
       "      inline_js[i](window.Bokeh);\n",
       "    }\n",
       "  }\n",
       "\n",
       "  if (window._bokeh_is_loading === 0) {\n",
       "    console.log(\"Bokeh: BokehJS loaded, going straight to plotting\");\n",
       "    run_inline_js();\n",
       "  } else {\n",
       "    load_libs(js_urls, function() {\n",
       "      console.log(\"Bokeh: BokehJS plotting callback run at\", now());\n",
       "      run_inline_js();\n",
       "    });\n",
       "  }\n",
       "}(this));"
      ]
     },
     "metadata": {},
     "output_type": "display_data"
    }
   ],
   "source": [
    "output_notebook()"
   ]
  },
  {
   "cell_type": "markdown",
   "metadata": {},
   "source": [
    "## Properties:\n",
    "\n",
    "- **Line:**line_color, line_alpha, line_width, line_dash\n",
    "- **Fill:** fill_color, fill_alpha\n",
    "- **Text:** text_font, text_font_size, text_color, text_alpha"
   ]
  },
  {
   "cell_type": "markdown",
   "metadata": {},
   "source": [
    "## Plots"
   ]
  },
  {
   "cell_type": "code",
   "execution_count": 9,
   "metadata": {
    "collapsed": false
   },
   "outputs": [
    {
     "data": {
      "text/html": [
       "\n",
       "\n",
       "    <div class=\"bk-root\">\n",
       "        <div class=\"plotdiv\" id=\"1afce9a6-f80f-4a65-8506-dff4cbccd20b\"></div>\n",
       "    </div>\n",
       "<script type=\"text/javascript\">\n",
       "  \n",
       "  (function(global) {\n",
       "    function now() {\n",
       "      return new Date();\n",
       "    }\n",
       "  \n",
       "    var force = \"\";\n",
       "  \n",
       "    if (typeof (window._bokeh_onload_callbacks) === \"undefined\" || force !== \"\") {\n",
       "      window._bokeh_onload_callbacks = [];\n",
       "      window._bokeh_is_loading = undefined;\n",
       "    }\n",
       "  \n",
       "    function run_callbacks() {\n",
       "      window._bokeh_onload_callbacks.forEach(function(callback) { callback() });\n",
       "      delete window._bokeh_onload_callbacks\n",
       "      console.info(\"Bokeh: all callbacks have finished\");\n",
       "    }\n",
       "  \n",
       "    function load_libs(js_urls, callback) {\n",
       "      window._bokeh_onload_callbacks.push(callback);\n",
       "      if (window._bokeh_is_loading > 0) {\n",
       "        console.log(\"Bokeh: BokehJS is being loaded, scheduling callback at\", now());\n",
       "        return null;\n",
       "      }\n",
       "      if (js_urls == null || js_urls.length === 0) {\n",
       "        run_callbacks();\n",
       "        return null;\n",
       "      }\n",
       "      console.log(\"Bokeh: BokehJS not loaded, scheduling load and callback at\", now());\n",
       "      window._bokeh_is_loading = js_urls.length;\n",
       "      for (var i = 0; i < js_urls.length; i++) {\n",
       "        var url = js_urls[i];\n",
       "        var s = document.createElement('script');\n",
       "        s.src = url;\n",
       "        s.async = false;\n",
       "        s.onreadystatechange = s.onload = function() {\n",
       "          window._bokeh_is_loading--;\n",
       "          if (window._bokeh_is_loading === 0) {\n",
       "            console.log(\"Bokeh: all BokehJS libraries loaded\");\n",
       "            run_callbacks()\n",
       "          }\n",
       "        };\n",
       "        s.onerror = function() {\n",
       "          console.warn(\"failed to load library \" + url);\n",
       "        };\n",
       "        console.log(\"Bokeh: injecting script tag for BokehJS library: \", url);\n",
       "        document.getElementsByTagName(\"head\")[0].appendChild(s);\n",
       "      }\n",
       "    };var element = document.getElementById(\"1afce9a6-f80f-4a65-8506-dff4cbccd20b\");\n",
       "    if (element == null) {\n",
       "      console.log(\"Bokeh: ERROR: autoload.js configured with elementid '1afce9a6-f80f-4a65-8506-dff4cbccd20b' but no matching script tag was found. \")\n",
       "      return false;\n",
       "    }\n",
       "  \n",
       "    var js_urls = [];\n",
       "  \n",
       "    var inline_js = [\n",
       "      function(Bokeh) {\n",
       "        Bokeh.$(function() {\n",
       "            var docs_json = {\"d512d4c2-b37d-4f4d-9f04-6d86ace84bf0\":{\"roots\":{\"references\":[{\"attributes\":{\"callback\":null},\"id\":\"bfeca742-2964-48f3-a534-5c68d7a130f6\",\"type\":\"DataRange1d\"},{\"attributes\":{\"data_source\":{\"id\":\"729264b0-75bc-4e62-898b-e937f3e53bb7\",\"type\":\"ColumnDataSource\"},\"glyph\":{\"id\":\"a71300b2-39c6-410c-a96f-da7446a5cd83\",\"type\":\"Circle\"},\"hover_glyph\":null,\"nonselection_glyph\":{\"id\":\"a1b8ea90-46f2-4481-a1cd-26e1f2b0de01\",\"type\":\"Circle\"},\"selection_glyph\":null},\"id\":\"5854e17e-e424-412e-baeb-6511e97bfec6\",\"type\":\"GlyphRenderer\"},{\"attributes\":{\"callback\":null},\"id\":\"cb06d88d-c26b-4f55-85ba-f5fb6c535ab0\",\"type\":\"DataRange1d\"},{\"attributes\":{\"plot\":{\"id\":\"42475e2c-7f22-4195-bbf9-76901806d337\",\"subtype\":\"Figure\",\"type\":\"Plot\"}},\"id\":\"992391d6-723c-4985-a33a-4b2184818377\",\"type\":\"ResetTool\"},{\"attributes\":{\"plot\":{\"id\":\"42475e2c-7f22-4195-bbf9-76901806d337\",\"subtype\":\"Figure\",\"type\":\"Plot\"}},\"id\":\"0205de4f-28a4-4266-8cd3-f5c2eea67848\",\"type\":\"WheelZoomTool\"},{\"attributes\":{\"plot\":{\"id\":\"42475e2c-7f22-4195-bbf9-76901806d337\",\"subtype\":\"Figure\",\"type\":\"Plot\"}},\"id\":\"9eae05ab-4a69-4800-9625-165b1d6ee1eb\",\"type\":\"SaveTool\"},{\"attributes\":{},\"id\":\"6e0dbc00-c920-4811-bcd0-514cad58adae\",\"type\":\"BasicTickFormatter\"},{\"attributes\":{\"below\":[{\"id\":\"c2bf7e00-f049-42fa-813c-70e88c4bda48\",\"type\":\"LinearAxis\"}],\"left\":[{\"id\":\"02e102ae-c362-46b6-b86d-ae12311cde92\",\"type\":\"LinearAxis\"}],\"outline_line_alpha\":{\"value\":0.3},\"outline_line_color\":{\"value\":\"green\"},\"outline_line_width\":{\"value\":7},\"plot_height\":400,\"plot_width\":400,\"renderers\":[{\"id\":\"c2bf7e00-f049-42fa-813c-70e88c4bda48\",\"type\":\"LinearAxis\"},{\"id\":\"ad1933cf-e61b-4e12-a150-ed6321dd3db3\",\"type\":\"Grid\"},{\"id\":\"02e102ae-c362-46b6-b86d-ae12311cde92\",\"type\":\"LinearAxis\"},{\"id\":\"b2895bd9-8d59-4fd1-b0c8-81f64843b7fe\",\"type\":\"Grid\"},{\"id\":\"591097f9-9049-4529-98f6-fa0a45e638be\",\"type\":\"BoxAnnotation\"},{\"id\":\"5854e17e-e424-412e-baeb-6511e97bfec6\",\"type\":\"GlyphRenderer\"}],\"title\":{\"id\":\"617be2bb-37d6-4130-a7c6-275d2024f226\",\"type\":\"Title\"},\"tool_events\":{\"id\":\"51df8679-d2ab-4f24-8067-3d39c8d7d76e\",\"type\":\"ToolEvents\"},\"toolbar\":{\"id\":\"376c05ba-7516-4890-a466-1d7cd327d32a\",\"type\":\"Toolbar\"},\"x_range\":{\"id\":\"cb06d88d-c26b-4f55-85ba-f5fb6c535ab0\",\"type\":\"DataRange1d\"},\"y_range\":{\"id\":\"bfeca742-2964-48f3-a534-5c68d7a130f6\",\"type\":\"DataRange1d\"}},\"id\":\"42475e2c-7f22-4195-bbf9-76901806d337\",\"subtype\":\"Figure\",\"type\":\"Plot\"},{\"attributes\":{\"callback\":null,\"column_names\":[\"y\",\"x\"],\"data\":{\"x\":[1,2,3,4,5],\"y\":[2,5,7,2,7]}},\"id\":\"729264b0-75bc-4e62-898b-e937f3e53bb7\",\"type\":\"ColumnDataSource\"},{\"attributes\":{\"plot\":null,\"text\":null},\"id\":\"617be2bb-37d6-4130-a7c6-275d2024f226\",\"type\":\"Title\"},{\"attributes\":{\"overlay\":{\"id\":\"591097f9-9049-4529-98f6-fa0a45e638be\",\"type\":\"BoxAnnotation\"},\"plot\":{\"id\":\"42475e2c-7f22-4195-bbf9-76901806d337\",\"subtype\":\"Figure\",\"type\":\"Plot\"}},\"id\":\"d08a8e6f-77f7-4d53-a7e7-7713e9eda842\",\"type\":\"BoxZoomTool\"},{\"attributes\":{\"formatter\":{\"id\":\"6e0dbc00-c920-4811-bcd0-514cad58adae\",\"type\":\"BasicTickFormatter\"},\"plot\":{\"id\":\"42475e2c-7f22-4195-bbf9-76901806d337\",\"subtype\":\"Figure\",\"type\":\"Plot\"},\"ticker\":{\"id\":\"de817662-9d33-45e7-9fd7-a32e306f89f6\",\"type\":\"BasicTicker\"}},\"id\":\"c2bf7e00-f049-42fa-813c-70e88c4bda48\",\"type\":\"LinearAxis\"},{\"attributes\":{},\"id\":\"51df8679-d2ab-4f24-8067-3d39c8d7d76e\",\"type\":\"ToolEvents\"},{\"attributes\":{\"plot\":{\"id\":\"42475e2c-7f22-4195-bbf9-76901806d337\",\"subtype\":\"Figure\",\"type\":\"Plot\"},\"ticker\":{\"id\":\"de817662-9d33-45e7-9fd7-a32e306f89f6\",\"type\":\"BasicTicker\"}},\"id\":\"ad1933cf-e61b-4e12-a150-ed6321dd3db3\",\"type\":\"Grid\"},{\"attributes\":{},\"id\":\"f38b0f1f-89c8-4f3e-8475-f296f4924f7e\",\"type\":\"BasicTickFormatter\"},{\"attributes\":{\"fill_alpha\":{\"value\":0.1},\"fill_color\":{\"value\":\"#1f77b4\"},\"line_alpha\":{\"value\":0.1},\"line_color\":{\"value\":\"#1f77b4\"},\"size\":{\"units\":\"screen\",\"value\":10},\"x\":{\"field\":\"x\"},\"y\":{\"field\":\"y\"}},\"id\":\"a1b8ea90-46f2-4481-a1cd-26e1f2b0de01\",\"type\":\"Circle\"},{\"attributes\":{\"dimension\":1,\"plot\":{\"id\":\"42475e2c-7f22-4195-bbf9-76901806d337\",\"subtype\":\"Figure\",\"type\":\"Plot\"},\"ticker\":{\"id\":\"9fb2350e-e77d-43e5-8d42-c83df113ae36\",\"type\":\"BasicTicker\"}},\"id\":\"b2895bd9-8d59-4fd1-b0c8-81f64843b7fe\",\"type\":\"Grid\"},{\"attributes\":{\"plot\":{\"id\":\"42475e2c-7f22-4195-bbf9-76901806d337\",\"subtype\":\"Figure\",\"type\":\"Plot\"}},\"id\":\"f9b201e5-cea6-4595-ba9d-1f3be7cd7ce7\",\"type\":\"PanTool\"},{\"attributes\":{},\"id\":\"de817662-9d33-45e7-9fd7-a32e306f89f6\",\"type\":\"BasicTicker\"},{\"attributes\":{\"active_drag\":\"auto\",\"active_scroll\":\"auto\",\"active_tap\":\"auto\",\"tools\":[{\"id\":\"f9b201e5-cea6-4595-ba9d-1f3be7cd7ce7\",\"type\":\"PanTool\"},{\"id\":\"0205de4f-28a4-4266-8cd3-f5c2eea67848\",\"type\":\"WheelZoomTool\"},{\"id\":\"d08a8e6f-77f7-4d53-a7e7-7713e9eda842\",\"type\":\"BoxZoomTool\"},{\"id\":\"9eae05ab-4a69-4800-9625-165b1d6ee1eb\",\"type\":\"SaveTool\"},{\"id\":\"992391d6-723c-4985-a33a-4b2184818377\",\"type\":\"ResetTool\"},{\"id\":\"00f1ec46-ba0d-4f73-b706-d597ff46bbcd\",\"type\":\"HelpTool\"}]},\"id\":\"376c05ba-7516-4890-a466-1d7cd327d32a\",\"type\":\"Toolbar\"},{\"attributes\":{\"plot\":{\"id\":\"42475e2c-7f22-4195-bbf9-76901806d337\",\"subtype\":\"Figure\",\"type\":\"Plot\"}},\"id\":\"00f1ec46-ba0d-4f73-b706-d597ff46bbcd\",\"type\":\"HelpTool\"},{\"attributes\":{\"fill_alpha\":{\"value\":0.8},\"fill_color\":{\"value\":\"green\"},\"line_color\":{\"value\":\"#1f77b4\"},\"size\":{\"units\":\"screen\",\"value\":10},\"x\":{\"field\":\"x\"},\"y\":{\"field\":\"y\"}},\"id\":\"a71300b2-39c6-410c-a96f-da7446a5cd83\",\"type\":\"Circle\"},{\"attributes\":{},\"id\":\"9fb2350e-e77d-43e5-8d42-c83df113ae36\",\"type\":\"BasicTicker\"},{\"attributes\":{\"bottom_units\":\"screen\",\"fill_alpha\":{\"value\":0.5},\"fill_color\":{\"value\":\"lightgrey\"},\"left_units\":\"screen\",\"level\":\"overlay\",\"line_alpha\":{\"value\":1.0},\"line_color\":{\"value\":\"black\"},\"line_dash\":[4,4],\"line_width\":{\"value\":2},\"plot\":null,\"render_mode\":\"css\",\"right_units\":\"screen\",\"top_units\":\"screen\"},\"id\":\"591097f9-9049-4529-98f6-fa0a45e638be\",\"type\":\"BoxAnnotation\"},{\"attributes\":{\"formatter\":{\"id\":\"f38b0f1f-89c8-4f3e-8475-f296f4924f7e\",\"type\":\"BasicTickFormatter\"},\"plot\":{\"id\":\"42475e2c-7f22-4195-bbf9-76901806d337\",\"subtype\":\"Figure\",\"type\":\"Plot\"},\"ticker\":{\"id\":\"9fb2350e-e77d-43e5-8d42-c83df113ae36\",\"type\":\"BasicTicker\"}},\"id\":\"02e102ae-c362-46b6-b86d-ae12311cde92\",\"type\":\"LinearAxis\"}],\"root_ids\":[\"42475e2c-7f22-4195-bbf9-76901806d337\"]},\"title\":\"Bokeh Application\",\"version\":\"0.12.1\"}};\n",
       "            var render_items = [{\"docid\":\"d512d4c2-b37d-4f4d-9f04-6d86ace84bf0\",\"elementid\":\"1afce9a6-f80f-4a65-8506-dff4cbccd20b\",\"modelid\":\"42475e2c-7f22-4195-bbf9-76901806d337\",\"notebook_comms_target\":\"a4e715c1-fa87-4ec4-949a-dab90bf7d8be\"}];\n",
       "            \n",
       "            Bokeh.embed.embed_items(docs_json, render_items);\n",
       "        });\n",
       "      },\n",
       "      function(Bokeh) {\n",
       "      }\n",
       "    ];\n",
       "  \n",
       "    function run_inline_js() {\n",
       "      for (var i = 0; i < inline_js.length; i++) {\n",
       "        inline_js[i](window.Bokeh);\n",
       "      }\n",
       "    }\n",
       "  \n",
       "    if (window._bokeh_is_loading === 0) {\n",
       "      console.log(\"Bokeh: BokehJS loaded, going straight to plotting\");\n",
       "      run_inline_js();\n",
       "    } else {\n",
       "      load_libs(js_urls, function() {\n",
       "        console.log(\"Bokeh: BokehJS plotting callback run at\", now());\n",
       "        run_inline_js();\n",
       "      });\n",
       "    }\n",
       "  }(this));\n",
       "</script>"
      ]
     },
     "metadata": {},
     "output_type": "display_data"
    },
    {
     "data": {
      "text/html": [
       "<p><code>&lt;Bokeh Notebook handle for <strong>In[9]</strong>&gt;</code></p>"
      ],
      "text/plain": [
       "<bokeh.io._CommsHandle at 0x87e6f28>"
      ]
     },
     "execution_count": 9,
     "metadata": {},
     "output_type": "execute_result"
    }
   ],
   "source": [
    "x = [1, 2, 3, 4, 5]\n",
    "y = [2, 5, 7, 2, 7]\n",
    "\n",
    "p = figure(plot_width=400, plot_height=400)\n",
    "p.outline_line_width = 7\n",
    "p.outline_line_alpha = 0.3\n",
    "p.outline_line_color = 'green'\n",
    "\n",
    "p.circle(x, y, size=10, fill_color='green', fill_alpha=0.8)\n",
    "show(p)"
   ]
  },
  {
   "cell_type": "markdown",
   "metadata": {},
   "source": [
    "## Glyphs"
   ]
  },
  {
   "cell_type": "code",
   "execution_count": 10,
   "metadata": {
    "collapsed": false
   },
   "outputs": [
    {
     "data": {
      "text/html": [
       "\n",
       "\n",
       "    <div class=\"bk-root\">\n",
       "        <div class=\"plotdiv\" id=\"1ec1584d-f0c9-4e8a-a38c-861a3dcf1fb6\"></div>\n",
       "    </div>\n",
       "<script type=\"text/javascript\">\n",
       "  \n",
       "  (function(global) {\n",
       "    function now() {\n",
       "      return new Date();\n",
       "    }\n",
       "  \n",
       "    var force = \"\";\n",
       "  \n",
       "    if (typeof (window._bokeh_onload_callbacks) === \"undefined\" || force !== \"\") {\n",
       "      window._bokeh_onload_callbacks = [];\n",
       "      window._bokeh_is_loading = undefined;\n",
       "    }\n",
       "  \n",
       "    function run_callbacks() {\n",
       "      window._bokeh_onload_callbacks.forEach(function(callback) { callback() });\n",
       "      delete window._bokeh_onload_callbacks\n",
       "      console.info(\"Bokeh: all callbacks have finished\");\n",
       "    }\n",
       "  \n",
       "    function load_libs(js_urls, callback) {\n",
       "      window._bokeh_onload_callbacks.push(callback);\n",
       "      if (window._bokeh_is_loading > 0) {\n",
       "        console.log(\"Bokeh: BokehJS is being loaded, scheduling callback at\", now());\n",
       "        return null;\n",
       "      }\n",
       "      if (js_urls == null || js_urls.length === 0) {\n",
       "        run_callbacks();\n",
       "        return null;\n",
       "      }\n",
       "      console.log(\"Bokeh: BokehJS not loaded, scheduling load and callback at\", now());\n",
       "      window._bokeh_is_loading = js_urls.length;\n",
       "      for (var i = 0; i < js_urls.length; i++) {\n",
       "        var url = js_urls[i];\n",
       "        var s = document.createElement('script');\n",
       "        s.src = url;\n",
       "        s.async = false;\n",
       "        s.onreadystatechange = s.onload = function() {\n",
       "          window._bokeh_is_loading--;\n",
       "          if (window._bokeh_is_loading === 0) {\n",
       "            console.log(\"Bokeh: all BokehJS libraries loaded\");\n",
       "            run_callbacks()\n",
       "          }\n",
       "        };\n",
       "        s.onerror = function() {\n",
       "          console.warn(\"failed to load library \" + url);\n",
       "        };\n",
       "        console.log(\"Bokeh: injecting script tag for BokehJS library: \", url);\n",
       "        document.getElementsByTagName(\"head\")[0].appendChild(s);\n",
       "      }\n",
       "    };var element = document.getElementById(\"1ec1584d-f0c9-4e8a-a38c-861a3dcf1fb6\");\n",
       "    if (element == null) {\n",
       "      console.log(\"Bokeh: ERROR: autoload.js configured with elementid '1ec1584d-f0c9-4e8a-a38c-861a3dcf1fb6' but no matching script tag was found. \")\n",
       "      return false;\n",
       "    }\n",
       "  \n",
       "    var js_urls = [];\n",
       "  \n",
       "    var inline_js = [\n",
       "      function(Bokeh) {\n",
       "        Bokeh.$(function() {\n",
       "            var docs_json = {\"40fe1b02-0211-4d96-9c7f-517496d39d06\":{\"roots\":{\"references\":[{\"attributes\":{\"plot\":{\"id\":\"d4f66755-2878-4d07-81cc-f90a55c6cb0f\",\"subtype\":\"Figure\",\"type\":\"Plot\"}},\"id\":\"9f870d7b-1e27-464a-a4fe-c5e600cd0432\",\"type\":\"ResetTool\"},{\"attributes\":{},\"id\":\"45d48f5e-3a9c-470a-b832-afc010475823\",\"type\":\"BasicTickFormatter\"},{\"attributes\":{\"fill_alpha\":{\"value\":0.2},\"fill_color\":{\"value\":\"#1f77b4\"},\"line_color\":{\"value\":\"firebrick\"},\"line_dash\":[5,1],\"line_width\":{\"value\":1.5},\"size\":{\"units\":\"screen\",\"value\":50},\"x\":{\"field\":\"x\"},\"y\":{\"field\":\"y\"}},\"id\":\"ea71a017-e221-4fa8-ab42-00a9538e6cad\",\"type\":\"Circle\"},{\"attributes\":{\"fill_alpha\":{\"value\":0.1},\"fill_color\":{\"value\":\"#1f77b4\"},\"line_alpha\":{\"value\":0.1},\"line_color\":{\"value\":\"#1f77b4\"},\"x\":{\"field\":\"x\"},\"y\":{\"field\":\"y\"}},\"id\":\"4033e368-fe91-4097-88cf-6738489b9e03\",\"type\":\"Circle\"},{\"attributes\":{\"callback\":null},\"id\":\"856bc6bf-04a5-489a-ba7e-9f82e8dc7abc\",\"type\":\"DataRange1d\"},{\"attributes\":{\"plot\":{\"id\":\"d4f66755-2878-4d07-81cc-f90a55c6cb0f\",\"subtype\":\"Figure\",\"type\":\"Plot\"}},\"id\":\"1b82e565-713f-4047-9b31-81b3c38ece1e\",\"type\":\"HelpTool\"},{\"attributes\":{\"below\":[{\"id\":\"5814c3b7-3c0f-43f3-89b0-1a56a1adc149\",\"type\":\"LinearAxis\"}],\"left\":[{\"id\":\"de25c445-a4ec-45d8-a2ee-cebf714e0719\",\"type\":\"LinearAxis\"}],\"plot_height\":400,\"plot_width\":400,\"renderers\":[{\"id\":\"5814c3b7-3c0f-43f3-89b0-1a56a1adc149\",\"type\":\"LinearAxis\"},{\"id\":\"e46a1526-7289-4a0f-a4cb-b973429d0d60\",\"type\":\"Grid\"},{\"id\":\"de25c445-a4ec-45d8-a2ee-cebf714e0719\",\"type\":\"LinearAxis\"},{\"id\":\"9e8935d2-61fa-4e4e-92ce-328532f1cb3d\",\"type\":\"Grid\"},{\"id\":\"bf0d5fa7-3db6-43f3-884f-6bc5cfcc6deb\",\"type\":\"BoxAnnotation\"},{\"id\":\"83c544ce-bbba-4f36-9a4f-a5dc8928e0bc\",\"type\":\"GlyphRenderer\"}],\"title\":{\"id\":\"272bbfb4-4556-4ffc-ad6a-4ce04e1975fa\",\"type\":\"Title\"},\"tool_events\":{\"id\":\"3f93b3c0-9107-4aac-88f1-02547a8796f5\",\"type\":\"ToolEvents\"},\"toolbar\":{\"id\":\"40a06d7c-c84a-4590-adfd-3dd4ece995d2\",\"type\":\"Toolbar\"},\"x_range\":{\"id\":\"e7c4963b-2625-47f1-80b3-1b9ebe709934\",\"type\":\"DataRange1d\"},\"y_range\":{\"id\":\"856bc6bf-04a5-489a-ba7e-9f82e8dc7abc\",\"type\":\"DataRange1d\"}},\"id\":\"d4f66755-2878-4d07-81cc-f90a55c6cb0f\",\"subtype\":\"Figure\",\"type\":\"Plot\"},{\"attributes\":{},\"id\":\"3f93b3c0-9107-4aac-88f1-02547a8796f5\",\"type\":\"ToolEvents\"},{\"attributes\":{\"plot\":{\"id\":\"d4f66755-2878-4d07-81cc-f90a55c6cb0f\",\"subtype\":\"Figure\",\"type\":\"Plot\"}},\"id\":\"92d2fc37-3d32-4272-9427-33c296a1c7f4\",\"type\":\"WheelZoomTool\"},{\"attributes\":{\"plot\":{\"id\":\"d4f66755-2878-4d07-81cc-f90a55c6cb0f\",\"subtype\":\"Figure\",\"type\":\"Plot\"}},\"id\":\"e5b92110-8675-4fde-955e-b3c74e5c42e4\",\"type\":\"SaveTool\"},{\"attributes\":{\"formatter\":{\"id\":\"2d61ad49-0686-49ef-99c2-1ec84ef24d69\",\"type\":\"BasicTickFormatter\"},\"plot\":{\"id\":\"d4f66755-2878-4d07-81cc-f90a55c6cb0f\",\"subtype\":\"Figure\",\"type\":\"Plot\"},\"ticker\":{\"id\":\"89419478-07b4-4257-8709-ce3038236d25\",\"type\":\"BasicTicker\"}},\"id\":\"de25c445-a4ec-45d8-a2ee-cebf714e0719\",\"type\":\"LinearAxis\"},{\"attributes\":{\"formatter\":{\"id\":\"45d48f5e-3a9c-470a-b832-afc010475823\",\"type\":\"BasicTickFormatter\"},\"plot\":{\"id\":\"d4f66755-2878-4d07-81cc-f90a55c6cb0f\",\"subtype\":\"Figure\",\"type\":\"Plot\"},\"ticker\":{\"id\":\"d3ce25b4-1745-4e6a-ac66-58669da2011c\",\"type\":\"BasicTicker\"}},\"id\":\"5814c3b7-3c0f-43f3-89b0-1a56a1adc149\",\"type\":\"LinearAxis\"},{\"attributes\":{\"active_drag\":\"auto\",\"active_scroll\":\"auto\",\"active_tap\":\"auto\",\"tools\":[{\"id\":\"e73a1023-54b4-4b9b-984a-0427cf50fe19\",\"type\":\"PanTool\"},{\"id\":\"92d2fc37-3d32-4272-9427-33c296a1c7f4\",\"type\":\"WheelZoomTool\"},{\"id\":\"2cfd9d6f-15d3-4fb6-a3e3-eed1504e166f\",\"type\":\"BoxZoomTool\"},{\"id\":\"e5b92110-8675-4fde-955e-b3c74e5c42e4\",\"type\":\"SaveTool\"},{\"id\":\"9f870d7b-1e27-464a-a4fe-c5e600cd0432\",\"type\":\"ResetTool\"},{\"id\":\"1b82e565-713f-4047-9b31-81b3c38ece1e\",\"type\":\"HelpTool\"}]},\"id\":\"40a06d7c-c84a-4590-adfd-3dd4ece995d2\",\"type\":\"Toolbar\"},{\"attributes\":{\"data_source\":{\"id\":\"402b9d99-eeb5-413c-b908-ba284a4e5c2d\",\"type\":\"ColumnDataSource\"},\"glyph\":{\"id\":\"ea71a017-e221-4fa8-ab42-00a9538e6cad\",\"type\":\"Circle\"},\"hover_glyph\":null,\"nonselection_glyph\":{\"id\":\"4033e368-fe91-4097-88cf-6738489b9e03\",\"type\":\"Circle\"},\"selection_glyph\":null},\"id\":\"83c544ce-bbba-4f36-9a4f-a5dc8928e0bc\",\"type\":\"GlyphRenderer\"},{\"attributes\":{\"dimension\":1,\"plot\":{\"id\":\"d4f66755-2878-4d07-81cc-f90a55c6cb0f\",\"subtype\":\"Figure\",\"type\":\"Plot\"},\"ticker\":{\"id\":\"89419478-07b4-4257-8709-ce3038236d25\",\"type\":\"BasicTicker\"}},\"id\":\"9e8935d2-61fa-4e4e-92ce-328532f1cb3d\",\"type\":\"Grid\"},{\"attributes\":{\"plot\":null,\"text\":null},\"id\":\"272bbfb4-4556-4ffc-ad6a-4ce04e1975fa\",\"type\":\"Title\"},{\"attributes\":{},\"id\":\"d3ce25b4-1745-4e6a-ac66-58669da2011c\",\"type\":\"BasicTicker\"},{\"attributes\":{\"bottom_units\":\"screen\",\"fill_alpha\":{\"value\":0.5},\"fill_color\":{\"value\":\"lightgrey\"},\"left_units\":\"screen\",\"level\":\"overlay\",\"line_alpha\":{\"value\":1.0},\"line_color\":{\"value\":\"black\"},\"line_dash\":[4,4],\"line_width\":{\"value\":2},\"plot\":null,\"render_mode\":\"css\",\"right_units\":\"screen\",\"top_units\":\"screen\"},\"id\":\"bf0d5fa7-3db6-43f3-884f-6bc5cfcc6deb\",\"type\":\"BoxAnnotation\"},{\"attributes\":{},\"id\":\"2d61ad49-0686-49ef-99c2-1ec84ef24d69\",\"type\":\"BasicTickFormatter\"},{\"attributes\":{\"callback\":null},\"id\":\"e7c4963b-2625-47f1-80b3-1b9ebe709934\",\"type\":\"DataRange1d\"},{\"attributes\":{\"callback\":null,\"column_names\":[\"y\",\"x\"],\"data\":{\"x\":[1,2,3,4,5],\"y\":[2,5,7,2,7]}},\"id\":\"402b9d99-eeb5-413c-b908-ba284a4e5c2d\",\"type\":\"ColumnDataSource\"},{\"attributes\":{\"plot\":{\"id\":\"d4f66755-2878-4d07-81cc-f90a55c6cb0f\",\"subtype\":\"Figure\",\"type\":\"Plot\"},\"ticker\":{\"id\":\"d3ce25b4-1745-4e6a-ac66-58669da2011c\",\"type\":\"BasicTicker\"}},\"id\":\"e46a1526-7289-4a0f-a4cb-b973429d0d60\",\"type\":\"Grid\"},{\"attributes\":{},\"id\":\"89419478-07b4-4257-8709-ce3038236d25\",\"type\":\"BasicTicker\"},{\"attributes\":{\"plot\":{\"id\":\"d4f66755-2878-4d07-81cc-f90a55c6cb0f\",\"subtype\":\"Figure\",\"type\":\"Plot\"}},\"id\":\"e73a1023-54b4-4b9b-984a-0427cf50fe19\",\"type\":\"PanTool\"},{\"attributes\":{\"overlay\":{\"id\":\"bf0d5fa7-3db6-43f3-884f-6bc5cfcc6deb\",\"type\":\"BoxAnnotation\"},\"plot\":{\"id\":\"d4f66755-2878-4d07-81cc-f90a55c6cb0f\",\"subtype\":\"Figure\",\"type\":\"Plot\"}},\"id\":\"2cfd9d6f-15d3-4fb6-a3e3-eed1504e166f\",\"type\":\"BoxZoomTool\"}],\"root_ids\":[\"d4f66755-2878-4d07-81cc-f90a55c6cb0f\"]},\"title\":\"Bokeh Application\",\"version\":\"0.12.1\"}};\n",
       "            var render_items = [{\"docid\":\"40fe1b02-0211-4d96-9c7f-517496d39d06\",\"elementid\":\"1ec1584d-f0c9-4e8a-a38c-861a3dcf1fb6\",\"modelid\":\"d4f66755-2878-4d07-81cc-f90a55c6cb0f\",\"notebook_comms_target\":\"bd2db04e-9646-4975-a11e-43d477d179d7\"}];\n",
       "            \n",
       "            Bokeh.embed.embed_items(docs_json, render_items);\n",
       "        });\n",
       "      },\n",
       "      function(Bokeh) {\n",
       "      }\n",
       "    ];\n",
       "  \n",
       "    function run_inline_js() {\n",
       "      for (var i = 0; i < inline_js.length; i++) {\n",
       "        inline_js[i](window.Bokeh);\n",
       "      }\n",
       "    }\n",
       "  \n",
       "    if (window._bokeh_is_loading === 0) {\n",
       "      console.log(\"Bokeh: BokehJS loaded, going straight to plotting\");\n",
       "      run_inline_js();\n",
       "    } else {\n",
       "      load_libs(js_urls, function() {\n",
       "        console.log(\"Bokeh: BokehJS plotting callback run at\", now());\n",
       "        run_inline_js();\n",
       "      });\n",
       "    }\n",
       "  }(this));\n",
       "</script>"
      ]
     },
     "metadata": {},
     "output_type": "display_data"
    },
    {
     "data": {
      "text/html": [
       "<p><code>&lt;Bokeh Notebook handle for <strong>In[10]</strong>&gt;</code></p>"
      ],
      "text/plain": [
       "<bokeh.io._CommsHandle at 0x87e67f0>"
      ]
     },
     "execution_count": 10,
     "metadata": {},
     "output_type": "execute_result"
    }
   ],
   "source": [
    "p = figure(plot_width=400, plot_height=400)\n",
    "\n",
    "# keep a reference to the returned glyphs \n",
    "r = p.circle(x, y)\n",
    "\n",
    "r.glyph.size = 50\n",
    "r.glyph.fill_alpha = 0.2\n",
    "r.glyph.line_color = 'firebrick'\n",
    "r.glyph.line_dash = [5, 1]\n",
    "r.glyph.line_width = 1.5\n",
    "\n",
    "show(p)"
   ]
  },
  {
   "cell_type": "markdown",
   "metadata": {},
   "source": [
    "## Selection and non-selection visuals"
   ]
  },
  {
   "cell_type": "code",
   "execution_count": null,
   "metadata": {
    "collapsed": true
   },
   "outputs": [],
   "source": []
  }
 ],
 "metadata": {
  "kernelspec": {
   "display_name": "Python 2",
   "language": "python",
   "name": "python2"
  },
  "language_info": {
   "codemirror_mode": {
    "name": "ipython",
    "version": 2
   },
   "file_extension": ".py",
   "mimetype": "text/x-python",
   "name": "python",
   "nbconvert_exporter": "python",
   "pygments_lexer": "ipython2",
   "version": "2.7.11"
  }
 },
 "nbformat": 4,
 "nbformat_minor": 0
}
